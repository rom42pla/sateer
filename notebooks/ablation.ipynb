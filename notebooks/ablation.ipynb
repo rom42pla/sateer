{
 "cells": [
  {
   "cell_type": "code",
   "execution_count": 2,
   "outputs": [],
   "source": [
    "from os import makedirs, listdir\n",
    "from os.path import isdir, join\n",
    "import re\n",
    "import pandas as pd\n",
    "import matplotlib.pyplot as plt\n",
    "from matplotlib.ticker import FormatStrFormatter\n",
    "import seaborn as sns"
   ],
   "metadata": {
    "collapsed": false,
    "pycharm": {
     "name": "#%%\n"
    }
   }
  },
  {
   "cell_type": "code",
   "execution_count": 3,
   "metadata": {
    "collapsed": true,
    "pycharm": {
     "name": "#%%\n"
    }
   },
   "outputs": [
    {
     "name": "stdout",
     "output_type": "stream",
     "text": [
      "     epoch  Unnamed: 0  loss_val  acc_mean_val  acc_valence_val  \\\n",
      "53       0           1  2.065203      0.534683         0.478601   \n",
      "54       1           3  2.065602      0.538056         0.521399   \n",
      "55       2           5  2.051552      0.556492         0.527020   \n",
      "56       3           7  2.031366      0.576525         0.570636   \n",
      "57       4           9  2.015185      0.581036         0.591275   \n",
      "..     ...         ...       ...           ...              ...   \n",
      "230     84         169  1.460186      0.818206         0.813629   \n",
      "231     85         171  1.450514      0.822671         0.819480   \n",
      "232     86         173  1.464535      0.815736         0.812978   \n",
      "233     87         175  1.466335      0.816844         0.807563   \n",
      "234     88         177  1.468698      0.815483         0.809144   \n",
      "\n",
      "     acc_arousal_val  acc_dominance_val  loss_train  acc_mean_train  \\\n",
      "53          0.586913           0.538536    2.178402        0.517510   \n",
      "54          0.586913           0.505856    2.115200        0.526957   \n",
      "55          0.586913           0.555544    2.087493        0.539780   \n",
      "56          0.605781           0.553158    2.061247        0.556768   \n",
      "57          0.598210           0.553623    2.042601        0.568139   \n",
      "..               ...                ...         ...             ...   \n",
      "230         0.822424           0.818564    1.325708        0.831677   \n",
      "231         0.825113           0.823420    1.321936        0.833062   \n",
      "232         0.818124           0.816106    1.319253        0.833745   \n",
      "233         0.825395           0.817574    1.310773        0.836462   \n",
      "234         0.822654           0.814650    1.308193        0.837028   \n",
      "\n",
      "     acc_valence_train  ...  mel_window_stride  mixing_sublayer_type  \\\n",
      "53            0.502411  ...               0.50               fourier   \n",
      "54            0.503786  ...               0.50               fourier   \n",
      "55            0.516932  ...               0.50               fourier   \n",
      "56            0.546059  ...               0.50               fourier   \n",
      "57            0.564286  ...               0.50               fourier   \n",
      "..                 ...  ...                ...                   ...   \n",
      "230           0.834953  ...               0.25               fourier   \n",
      "231           0.836725  ...               0.25               fourier   \n",
      "232           0.840148  ...               0.25               fourier   \n",
      "233           0.842320  ...               0.25               fourier   \n",
      "234           0.841628  ...               0.25               fourier   \n",
      "\n",
      "     hidden_size  num_encoders  num_decoders num_attention_heads  \\\n",
      "53           512             2             2                   8   \n",
      "54           512             2             2                   8   \n",
      "55           512             2             2                   8   \n",
      "56           512             2             2                   8   \n",
      "57           512             2             2                   8   \n",
      "..           ...           ...           ...                 ...   \n",
      "230          512             2             2                   8   \n",
      "231          512             2             2                   8   \n",
      "232          512             2             2                   8   \n",
      "233          512             2             2                   8   \n",
      "234          512             2             2                   8   \n",
      "\n",
      "     positional_embedding_type  dropout_p  noise_strength  trial  \n",
      "53                  sinusoidal        0.2             0.1      0  \n",
      "54                  sinusoidal        0.2             0.1      0  \n",
      "55                  sinusoidal        0.2             0.1      0  \n",
      "56                  sinusoidal        0.2             0.1      0  \n",
      "57                  sinusoidal        0.2             0.1      0  \n",
      "..                         ...        ...             ...    ...  \n",
      "230                 sinusoidal        0.2             0.1      7  \n",
      "231                 sinusoidal        0.2             0.1      7  \n",
      "232                 sinusoidal        0.2             0.1      7  \n",
      "233                 sinusoidal        0.2             0.1      7  \n",
      "234                 sinusoidal        0.2             0.1      7  \n",
      "\n",
      "[537 rows x 24 columns]\n"
     ]
    }
   ],
   "source": [
    "logs = pd.DataFrame()\n",
    "experiment_path = join(\"..\", \"checkpoints\", \"ablation\", \"20220802_145258_dreamer_mel_window\")\n",
    "for trial_folder in [f for f in listdir(experiment_path) if re.fullmatch(r\"trial_[0-9]+\", f)]:\n",
    "    if not \"logs.csv\" in listdir(join(experiment_path, trial_folder)):\n",
    "        continue\n",
    "    trial_logs = pd.read_csv(join(experiment_path, trial_folder, \"logs.csv\"), index_col=False)\n",
    "    trial_logs = trial_logs.groupby(\"epoch\").max().reset_index()\n",
    "    trial_logs[\"trial\"] = int(trial_folder.split(\"_\")[-1])\n",
    "    logs = pd.concat([logs, trial_logs], ignore_index=True)\n",
    "logs = logs.sort_values(by=[\"trial\", \"epoch\"])\n",
    "print(logs)\n",
    "# logs = pd.DataFrame([\n",
    "#     {**trial.params, \"acc_mean_val\": trial.value} for trial in study.trials\n",
    "# ]).sort_values(by=\"acc_mean_val\", ascending=False)\n",
    "# logs.to_csv(join(experiment_path, \"results.csv\"), index=False)\n",
    "# plot_ablation(logs=logs,\n",
    "#               experiment_path=experiment_path)"
   ]
  },
  {
   "cell_type": "code",
   "execution_count": 4,
   "outputs": [
    {
     "name": "stdout",
     "output_type": "stream",
     "text": [
      "['epoch', 'Unnamed: 0', 'loss_val', 'acc_valence_val', 'acc_arousal_val', 'acc_dominance_val', 'loss_train', 'acc_mean_train', 'acc_valence_train', 'acc_arousal_train', 'acc_dominance_train', 'mel_window_size', 'mel_window_stride', 'trial']\n"
     ]
    },
    {
     "ename": "RuntimeError",
     "evalue": "No active exception to reraise",
     "output_type": "error",
     "traceback": [
      "\u001B[0;31m---------------------------------------------------------------------------\u001B[0m",
      "\u001B[0;31mRuntimeError\u001B[0m                              Traceback (most recent call last)",
      "Input \u001B[0;32mIn [4]\u001B[0m, in \u001B[0;36m<module>\u001B[0;34m\u001B[0m\n\u001B[1;32m      1\u001B[0m tested_parameters \u001B[38;5;241m=\u001B[39m [c \u001B[38;5;28;01mfor\u001B[39;00m c \u001B[38;5;129;01min\u001B[39;00m logs\u001B[38;5;241m.\u001B[39mcolumns\n\u001B[1;32m      2\u001B[0m                      \u001B[38;5;28;01mif\u001B[39;00m c \u001B[38;5;241m!=\u001B[39m \u001B[38;5;124m\"\u001B[39m\u001B[38;5;124macc_mean_val\u001B[39m\u001B[38;5;124m\"\u001B[39m\n\u001B[1;32m      3\u001B[0m                      \u001B[38;5;129;01mand\u001B[39;00m \u001B[38;5;28mlen\u001B[39m(logs[c]\u001B[38;5;241m.\u001B[39munique()) \u001B[38;5;241m>\u001B[39m \u001B[38;5;241m1\u001B[39m]\n\u001B[1;32m      4\u001B[0m \u001B[38;5;28mprint\u001B[39m(tested_parameters)\n\u001B[0;32m----> 5\u001B[0m \u001B[38;5;28;01mraise\u001B[39;00m\n\u001B[1;32m      6\u001B[0m \u001B[38;5;28;01mif\u001B[39;00m experiment_path \u001B[38;5;129;01mis\u001B[39;00m \u001B[38;5;129;01mnot\u001B[39;00m \u001B[38;5;28;01mNone\u001B[39;00m:\n\u001B[1;32m      7\u001B[0m     \u001B[38;5;28;01mif\u001B[39;00m \u001B[38;5;129;01mnot\u001B[39;00m isdir(join(experiment_path, \u001B[38;5;124m\"\u001B[39m\u001B[38;5;124mplots\u001B[39m\u001B[38;5;124m\"\u001B[39m)):\n",
      "\u001B[0;31mRuntimeError\u001B[0m: No active exception to reraise"
     ]
    }
   ],
   "source": [
    "tested_parameters = [c for c in logs.columns\n",
    "                     if c != \"acc_mean_val\"\n",
    "                     and len(logs[c].unique()) > 1]\n",
    "print(tested_parameters)\n",
    "raise\n",
    "if experiment_path is not None:\n",
    "    if not isdir(join(experiment_path, \"plots\")):\n",
    "        makedirs(join(experiment_path, \"plots\"))\n",
    "for parameter in tested_parameters:\n",
    "    fig, ax = plt.subplots(nrows=1, ncols=1,\n",
    "                           figsize=(5, 5),\n",
    "                           tight_layout=True)\n",
    "    sns.barplot(data=logs, x=parameter, y=\"acc_mean_val\",\n",
    "                ax=ax, palette=\"rocket\")\n",
    "    ax.set_xlabel(parameter)\n",
    "    ax.set_ylabel(\"accuracy\")\n",
    "    ax.set_ylim(0.4, 1)\n",
    "    ax.xaxis.set_major_formatter(FormatStrFormatter('%.2f'))\n",
    "    ax.grid(axis=\"y\")\n",
    "    if experiment_path is not None:\n",
    "        plt.savefig(join(experiment_path, \"plots\", f\"{parameter}.png\"))\n",
    "    plt.show()"
   ],
   "metadata": {
    "collapsed": false,
    "pycharm": {
     "name": "#%%\n"
    }
   }
  },
  {
   "cell_type": "code",
   "execution_count": null,
   "outputs": [],
   "source": [],
   "metadata": {
    "collapsed": false,
    "pycharm": {
     "name": "#%%\n"
    }
   }
  }
 ],
 "metadata": {
  "kernelspec": {
   "display_name": "Python 3",
   "language": "python",
   "name": "python3"
  },
  "language_info": {
   "codemirror_mode": {
    "name": "ipython",
    "version": 2
   },
   "file_extension": ".py",
   "mimetype": "text/x-python",
   "name": "python",
   "nbconvert_exporter": "python",
   "pygments_lexer": "ipython2",
   "version": "2.7.6"
  }
 },
 "nbformat": 4,
 "nbformat_minor": 0
}