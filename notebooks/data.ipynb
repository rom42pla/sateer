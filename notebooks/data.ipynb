{
 "cells": [
  {
   "cell_type": "code",
   "execution_count": 9,
   "outputs": [],
   "source": [
    "from os.path import join\n",
    "from pprint import pprint"
   ],
   "metadata": {
    "collapsed": false,
    "pycharm": {
     "name": "#%%\n"
    }
   }
  },
  {
   "cell_type": "code",
   "execution_count": 10,
   "outputs": [],
   "source": [
    "import torch\n",
    "from torch.utils.data import DataLoader"
   ],
   "metadata": {
    "collapsed": false,
    "pycharm": {
     "name": "#%%\n"
    }
   }
  },
  {
   "cell_type": "code",
   "execution_count": 11,
   "outputs": [],
   "source": [
    "from datasets.deap import DEAPDataset\n",
    "from datasets.eeg_emrec import EEGClassificationDataset"
   ],
   "metadata": {
    "collapsed": false,
    "pycharm": {
     "name": "#%%\n"
    }
   }
  },
  {
   "cell_type": "code",
   "execution_count": 12,
   "outputs": [],
   "source": [
    "dataset: EEGClassificationDataset = DEAPDataset(\n",
    "    path=join(\"..\", \"..\", \"..\", \"datasets\", \"eeg_emotion_recognition\", \"deap\"),\n",
    "    split_in_windows=True,\n",
    "    window_size=1,\n",
    "    drop_last=True,\n",
    "    discretize_labels=True,\n",
    "    normalize_eegs=True,\n",
    ")"
   ],
   "metadata": {
    "collapsed": false,
    "pycharm": {
     "name": "#%%\n"
    }
   }
  },
  {
   "cell_type": "code",
   "execution_count": 13,
   "metadata": {
    "collapsed": true,
    "pycharm": {
     "name": "#%%\n"
    }
   },
   "outputs": [],
   "source": [
    "def collate_batch(batch):\n",
    "    # label_list, text_list, = [], []\n",
    "    #\n",
    "    # for (_text,_label) in batch:\n",
    "    #   label_list.append(_label)\n",
    "    #   processed_text = torch.tensor(text_pipeline(_text), dtype=torch.int64)\n",
    "    #   text_list.append(processed_text)\n",
    "    #\n",
    "    # label_list = torch.tensor(label_list, dtype=torch.int64)\n",
    "    #\n",
    "    # text_list = pad_sequence(text_list, batch_first=True, padding_value=0)\n",
    "    pass\n",
    "# return text_list.to(device),label_list.to(device),"
   ]
  },
  {
   "cell_type": "code",
   "execution_count": 14,
   "outputs": [
    {
     "name": "stdout",
     "output_type": "stream",
     "text": [
      "{'eegs': array([[ 2.49602159e-07,  3.32570032e-08, -4.92642236e-07, ...,\n",
      "        -9.63354241e-07, -2.60773098e-07,  8.67927514e-08],\n",
      "       [ 4.29822821e-07,  3.31182295e-07,  5.11922006e-07, ...,\n",
      "        -3.42394714e-07, -1.98996779e-07,  4.71559932e-07],\n",
      "       [ 7.77531229e-07,  4.35958697e-07,  6.13158198e-07, ...,\n",
      "        -8.39651584e-07,  2.12101731e-07,  1.01103105e-06],\n",
      "       ...,\n",
      "       [-2.03536652e-07, -1.82946415e-07, -1.11514403e-07, ...,\n",
      "         4.30292579e-07, -3.21258630e-07, -1.17979229e-07],\n",
      "       [ 2.61443966e-07,  4.11111050e-07,  3.00904930e-07, ...,\n",
      "         5.12078171e-07, -3.98762834e-07, -7.05207282e-07],\n",
      "       [ 7.48707499e-07,  4.97981679e-07,  6.36710716e-07, ...,\n",
      "        -3.94404997e-07, -5.51041683e-07, -6.70627687e-07]]),\n",
      " 'labels': array([1, 1, 1, 1]),\n",
      " 'sampling_rates': 128,\n",
      " 'subject_id': 0}\n"
     ]
    }
   ],
   "source": [
    "pprint(dataset[0])"
   ],
   "metadata": {
    "collapsed": false,
    "pycharm": {
     "name": "#%%\n"
    }
   }
  },
  {
   "cell_type": "code",
   "execution_count": 15,
   "outputs": [
    {
     "name": "stdout",
     "output_type": "stream",
     "text": [
      "{'sampling_rates': tensor([128, 128, 128, 128, 128, 128, 128, 128]), 'subject_id': tensor([0, 0, 0, 0, 0, 0, 0, 0]), 'eegs': tensor([[[ 2.4960e-07,  3.3257e-08, -4.9264e-07,  ..., -9.6335e-07,\n",
      "          -2.6077e-07,  8.6793e-08],\n",
      "         [ 4.2982e-07,  3.3118e-07,  5.1192e-07,  ..., -3.4239e-07,\n",
      "          -1.9900e-07,  4.7156e-07],\n",
      "         [ 7.7753e-07,  4.3596e-07,  6.1316e-07,  ..., -8.3965e-07,\n",
      "           2.1210e-07,  1.0110e-06],\n",
      "         ...,\n",
      "         [-2.0354e-07, -1.8295e-07, -1.1151e-07,  ...,  4.3029e-07,\n",
      "          -3.2126e-07, -1.1798e-07],\n",
      "         [ 2.6144e-07,  4.1111e-07,  3.0090e-07,  ...,  5.1208e-07,\n",
      "          -3.9876e-07, -7.0521e-07],\n",
      "         [ 7.4871e-07,  4.9798e-07,  6.3671e-07,  ..., -3.9440e-07,\n",
      "          -5.5104e-07, -6.7063e-07]],\n",
      "\n",
      "        [[ 2.3632e-07,  5.4436e-08,  2.5383e-07,  ..., -4.4352e-07,\n",
      "          -2.0835e-07,  5.6026e-08],\n",
      "         [-2.3885e-07, -3.6472e-07, -2.9232e-07,  ...,  7.5700e-07,\n",
      "           2.9194e-07,  5.6358e-07],\n",
      "         [-1.1704e-07, -3.9011e-07, -2.4942e-07,  ...,  9.1500e-07,\n",
      "           3.0699e-07,  6.3716e-07],\n",
      "         ...,\n",
      "         [-9.4853e-07, -1.4383e-06, -1.0487e-06,  ..., -5.9188e-07,\n",
      "           7.3805e-07,  1.7689e-06],\n",
      "         [-1.9517e-06, -2.1696e-06, -1.7875e-06,  ..., -1.0988e-07,\n",
      "           1.0282e-06,  1.9966e-06],\n",
      "         [-2.0570e-06, -1.7200e-06, -2.0479e-06,  ..., -1.1691e-07,\n",
      "           1.0902e-06,  1.4729e-06]],\n",
      "\n",
      "        [[-6.1233e-07, -6.8903e-07, -1.1154e-06,  ...,  7.2171e-08,\n",
      "           5.7298e-07,  9.7330e-07],\n",
      "         [ 8.9840e-07,  4.2768e-07,  4.4168e-07,  ...,  4.0654e-07,\n",
      "          -5.0080e-07,  2.0371e-07],\n",
      "         [ 3.4041e-07,  2.8924e-07,  3.5833e-07,  ...,  3.5361e-07,\n",
      "          -7.1195e-07, -5.1200e-07],\n",
      "         ...,\n",
      "         [ 6.9491e-07,  6.8452e-07,  3.7045e-07,  ...,  5.3299e-07,\n",
      "          -1.7649e-07, -2.3301e-07],\n",
      "         [ 1.5286e-07, -2.1996e-08, -4.6034e-07,  ...,  7.3283e-07,\n",
      "           5.1577e-07,  5.5543e-07],\n",
      "         [ 4.6430e-07,  4.3604e-08, -6.2866e-07,  ...,  9.3330e-07,\n",
      "           8.4820e-07,  9.4817e-07]],\n",
      "\n",
      "        ...,\n",
      "\n",
      "        [[-4.6342e-07, -4.4369e-07, -5.5353e-07,  ...,  1.3939e-06,\n",
      "           7.9386e-07,  8.5709e-07],\n",
      "         [ 6.1698e-07,  9.2702e-07,  9.0938e-07,  ...,  3.3882e-07,\n",
      "          -7.1548e-08, -6.9883e-07],\n",
      "         [ 1.3217e-06,  1.5960e-06,  1.6701e-06,  ..., -1.9612e-06,\n",
      "          -1.2967e-06, -1.6773e-06],\n",
      "         ...,\n",
      "         [-1.6717e-06, -1.6108e-06, -9.1847e-07,  ...,  4.2684e-07,\n",
      "           1.8250e-06,  1.7324e-06],\n",
      "         [-2.1771e-06, -2.0275e-06, -1.1441e-06,  ...,  5.2778e-07,\n",
      "           2.3287e-06,  2.3005e-06],\n",
      "         [-1.0610e-06, -7.1641e-07, -1.2524e-07,  ..., -4.3433e-07,\n",
      "           1.4407e-06,  1.5189e-06]],\n",
      "\n",
      "        [[ 6.3228e-07,  8.0150e-07,  1.0644e-06,  ...,  4.9921e-07,\n",
      "           1.4888e-08, -1.4467e-07],\n",
      "         [ 1.2884e-06,  1.5135e-06,  1.2295e-06,  ...,  8.8516e-07,\n",
      "          -6.8253e-07, -9.3765e-07],\n",
      "         [ 1.2367e-06,  1.5920e-06,  1.2005e-06,  ..., -8.7217e-07,\n",
      "          -1.0833e-06, -1.0473e-06],\n",
      "         ...,\n",
      "         [-9.1668e-07, -9.6318e-07, -7.6014e-07,  ...,  9.6694e-07,\n",
      "           1.2407e-06,  1.4304e-06],\n",
      "         [-1.1250e-06, -1.0508e-06, -5.6070e-07,  ..., -2.4015e-09,\n",
      "           7.1247e-07,  8.3274e-07],\n",
      "         [-1.1087e-06, -8.5027e-07, -1.9921e-07,  ..., -7.4529e-07,\n",
      "           3.6365e-07,  6.0032e-07]],\n",
      "\n",
      "        [[-4.0041e-07, -1.9097e-07, -1.8470e-07,  ..., -6.0378e-07,\n",
      "           6.2342e-07,  7.9252e-07],\n",
      "         [ 6.4046e-07,  6.5702e-07, -1.7931e-07,  ...,  1.5067e-08,\n",
      "           3.2914e-07,  4.9282e-07],\n",
      "         [ 4.4954e-07,  5.4829e-07, -1.8076e-07,  ...,  2.3319e-07,\n",
      "           3.9514e-08, -6.6913e-10],\n",
      "         ...,\n",
      "         [-2.3118e-07,  9.7697e-08,  4.6788e-07,  ..., -4.4803e-07,\n",
      "           2.9739e-07,  1.7772e-07],\n",
      "         [-1.5004e-07,  3.3677e-07,  7.0686e-07,  ..., -5.8767e-08,\n",
      "          -2.3494e-07, -6.1857e-07],\n",
      "         [-1.9970e-08,  3.5502e-07,  6.7509e-07,  ..., -1.0385e-06,\n",
      "          -8.1810e-07, -1.2351e-06]]], dtype=torch.float64), 'labels': tensor([[1, 1, 1, 1],\n",
      "        [1, 1, 1, 1],\n",
      "        [1, 1, 1, 1],\n",
      "        [1, 1, 1, 1],\n",
      "        [1, 1, 1, 1],\n",
      "        [1, 1, 1, 1],\n",
      "        [1, 1, 1, 1],\n",
      "        [1, 1, 1, 1]])}\n"
     ]
    }
   ],
   "source": [
    "dataloader = DataLoader(dataset, batch_size=8)\n",
    "for b in dataloader:\n",
    "    print(b)\n",
    "    break"
   ],
   "metadata": {
    "collapsed": false,
    "pycharm": {
     "name": "#%%\n"
    }
   }
  },
  {
   "cell_type": "code",
   "execution_count": 15,
   "outputs": [],
   "source": [],
   "metadata": {
    "collapsed": false,
    "pycharm": {
     "name": "#%%\n"
    }
   }
  }
 ],
 "metadata": {
  "kernelspec": {
   "display_name": "Python 3",
   "language": "python",
   "name": "python3"
  },
  "language_info": {
   "codemirror_mode": {
    "name": "ipython",
    "version": 2
   },
   "file_extension": ".py",
   "mimetype": "text/x-python",
   "name": "python",
   "nbconvert_exporter": "python",
   "pygments_lexer": "ipython2",
   "version": "2.7.6"
  }
 },
 "nbformat": 4,
 "nbformat_minor": 0
}