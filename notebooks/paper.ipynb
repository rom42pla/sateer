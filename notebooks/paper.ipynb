{
 "cells": [
  {
   "cell_type": "code",
   "execution_count": null,
   "metadata": {
    "collapsed": true,
    "pycharm": {
     "name": "#%%\n"
    }
   },
   "outputs": [],
   "source": [
    "from os.path import join\n",
    "from datasets.eeg_emrec import EEGClassificationDataset\n",
    "from datasets.deap import DEAPDataset\n",
    "\n",
    "dataset: EEGClassificationDataset = DEAPDataset(\n",
    "    path=join(\"..\", \"..\", \"..\", \"datasets\", \"eeg_emotion_recognition\", \"deap\"),\n",
    "    window_size=2,\n",
    "    window_stride=2,\n",
    "    drop_last=True,\n",
    "    discretize_labels=True,\n",
    "    normalize_eegs=True,\n",
    ")"
   ]
  }
 ],
 "metadata": {
  "kernelspec": {
   "display_name": "Python 3",
   "language": "python",
   "name": "python3"
  },
  "language_info": {
   "codemirror_mode": {
    "name": "ipython",
    "version": 2
   },
   "file_extension": ".py",
   "mimetype": "text/x-python",
   "name": "python",
   "nbconvert_exporter": "python",
   "pygments_lexer": "ipython2",
   "version": "2.7.6"
  }
 },
 "nbformat": 4,
 "nbformat_minor": 0
}