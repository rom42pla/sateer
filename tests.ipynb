{
 "cells": [
  {
   "cell_type": "code",
   "execution_count": 2,
   "outputs": [],
   "source": [
    "from os.path import join\n",
    "import time\n",
    "\n",
    "import einops\n",
    "import numpy as np\n",
    "from scipy import signal\n",
    "import torch\n",
    "\n",
    "from datasets.dreamer import DREAMERDataset\n",
    "from datasets.deap import DEAPDataset\n",
    "import matplotlib.pyplot as plt"
   ],
   "metadata": {
    "collapsed": false,
    "pycharm": {
     "name": "#%%\n"
    }
   }
  },
  {
   "cell_type": "markdown",
   "source": [
    "# Data"
   ],
   "metadata": {
    "collapsed": false,
    "pycharm": {
     "name": "#%% md\n"
    }
   }
  },
  {
   "cell_type": "code",
   "execution_count": 3,
   "outputs": [],
   "source": [
    "dreamer = DREAMERDataset(path=join(\"..\", \"..\", \"datasets\", \"eeg_emotion_recognition\", \"dreamer\"),\n",
    "                         split_in_windows=True,\n",
    "                         window_size=1, drop_last=True,\n",
    "                         discretize_labels=True, normalize_eegs=True,\n",
    "                         validation=\"k_fold\", k_folds=10,\n",
    "                         labels_to_use=[\"valence\", \"arousal\", \"dominance\"],\n",
    "                         batch_size=128)"
   ],
   "metadata": {
    "collapsed": false,
    "pycharm": {
     "name": "#%%\n"
    }
   }
  },
  {
   "cell_type": "code",
   "execution_count": 4,
   "outputs": [],
   "source": [
    "deap = DEAPDataset(path=join(\"..\", \"..\", \"datasets\", \"eeg_emotion_recognition\", \"deap\"),\n",
    "                         split_in_windows=True,\n",
    "                         window_size=1, drop_last=True,\n",
    "                         discretize_labels=True, normalize_eegs=True,\n",
    "                         validation=\"k_fold\", k_folds=10,\n",
    "                         labels_to_use=[\"valence\", \"arousal\", \"dominance\"],\n",
    "                         batch_size=128)"
   ],
   "metadata": {
    "collapsed": false,
    "pycharm": {
     "name": "#%%\n"
    }
   }
  },
  {
   "cell_type": "code",
   "execution_count": 5,
   "outputs": [
    {
     "name": "stdout",
     "output_type": "stream",
     "text": [
      "76800 85744\n"
     ]
    }
   ],
   "source": [
    "print(len(deap), len(dreamer))"
   ],
   "metadata": {
    "collapsed": false,
    "pycharm": {
     "name": "#%%\n"
    }
   }
  },
  {
   "cell_type": "code",
   "execution_count": 8,
   "outputs": [
    {
     "name": "stdout",
     "output_type": "stream",
     "text": [
      "tensor(-8.1110e-05) tensor(0.0001)\n",
      "tensor(-4.2283e-05) tensor(3.5265e-05)\n"
     ]
    }
   ],
   "source": [
    "print(dreamer.eegs_data.min(), dreamer.eegs_data.max())\n",
    "print(deap.eegs_data.min(), deap.eegs_data.max())"
   ],
   "metadata": {
    "collapsed": false,
    "pycharm": {
     "name": "#%%\n"
    }
   }
  },
  {
   "cell_type": "markdown",
   "source": [
    "# Decompositions"
   ],
   "metadata": {
    "collapsed": false,
    "pycharm": {
     "name": "#%% md\n"
    }
   }
  },
  {
   "cell_type": "markdown",
   "source": [
    "## Wavelets"
   ],
   "metadata": {
    "collapsed": false,
    "pycharm": {
     "name": "#%% md\n"
    }
   }
  },
  {
   "cell_type": "code",
   "execution_count": 6,
   "outputs": [
    {
     "ename": "NameError",
     "evalue": "name 'sample_eeg' is not defined",
     "output_type": "error",
     "traceback": [
      "\u001B[0;31m---------------------------------------------------------------------------\u001B[0m",
      "\u001B[0;31mNameError\u001B[0m                                 Traceback (most recent call last)",
      "Input \u001B[0;32mIn [6]\u001B[0m, in \u001B[0;36m<module>\u001B[0;34m\u001B[0m\n\u001B[1;32m      4\u001B[0m     x_decomposed \u001B[38;5;241m=\u001B[39m torch\u001B[38;5;241m.\u001B[39mstack([torch\u001B[38;5;241m.\u001B[39mas_tensor(signal\u001B[38;5;241m.\u001B[39mcwt(x[:, i_channel], signal\u001B[38;5;241m.\u001B[39mricker, widths))\n\u001B[1;32m      5\u001B[0m                                 \u001B[38;5;28;01mfor\u001B[39;00m i_channel \u001B[38;5;129;01min\u001B[39;00m \u001B[38;5;28mrange\u001B[39m(x\u001B[38;5;241m.\u001B[39mshape[\u001B[38;5;241m-\u001B[39m\u001B[38;5;241m1\u001B[39m])], dim\u001B[38;5;241m=\u001B[39m\u001B[38;5;241m-\u001B[39m\u001B[38;5;241m1\u001B[39m)  \u001B[38;5;66;03m# (w, s, e)\u001B[39;00m\n\u001B[1;32m      6\u001B[0m     \u001B[38;5;28;01mreturn\u001B[39;00m x_decomposed\n\u001B[0;32m----> 9\u001B[0m s \u001B[38;5;241m=\u001B[39m wavelet_decompose(x\u001B[38;5;241m=\u001B[39m\u001B[43msample_eeg\u001B[49m, widths\u001B[38;5;241m=\u001B[39m[\u001B[38;5;241m1\u001B[39m, \u001B[38;5;241m2\u001B[39m, \u001B[38;5;241m4\u001B[39m, \u001B[38;5;241m8\u001B[39m, \u001B[38;5;241m16\u001B[39m, \u001B[38;5;241m32\u001B[39m])\n\u001B[1;32m     10\u001B[0m \u001B[38;5;28mprint\u001B[39m(s\u001B[38;5;241m.\u001B[39mshape)\n",
      "\u001B[0;31mNameError\u001B[0m: name 'sample_eeg' is not defined"
     ]
    }
   ],
   "source": [
    "def wavelet_decompose(x, widths):\n",
    "    assert any([isinstance(widths, t) for t in {np.ndarray, torch.Tensor, list}])\n",
    "    assert all([width > 0 for width in widths])\n",
    "    x_decomposed = torch.stack([torch.as_tensor(signal.cwt(x[:, i_channel], signal.ricker, widths))\n",
    "                                for i_channel in range(x.shape[-1])], dim=-1)  # (w, s, e)\n",
    "    return x_decomposed\n",
    "\n",
    "\n",
    "s = wavelet_decompose(x=sample_eeg, widths=[1, 2, 4, 8, 16, 32])\n",
    "print(s.shape)"
   ],
   "metadata": {
    "collapsed": false,
    "pycharm": {
     "name": "#%%\n"
    }
   }
  },
  {
   "cell_type": "code",
   "execution_count": null,
   "outputs": [],
   "source": [
    "for i in s:\n",
    "    plt.plot(i)\n",
    "    plt.show()"
   ],
   "metadata": {
    "collapsed": false,
    "pycharm": {
     "name": "#%%\n"
    }
   }
  },
  {
   "cell_type": "markdown",
   "source": [
    "## Spectrogram"
   ],
   "metadata": {
    "collapsed": false,
    "pycharm": {
     "name": "#%% md\n"
    }
   }
  },
  {
   "cell_type": "code",
   "execution_count": null,
   "outputs": [],
   "source": [
    "import librosa\n",
    "\n",
    "\n",
    "def plot_spectrogram(specgram, title=None, ylabel=\"freq_bin\"):\n",
    "    fig, axs = plt.subplots(1, 1)\n",
    "    axs.set_title(title or \"Spectrogram (db)\")\n",
    "    axs.set_ylabel(ylabel)\n",
    "    axs.set_xlabel(\"frame\")\n",
    "    im = axs.imshow(specgram, origin=\"lower\", aspect=\"auto\")\n",
    "    fig.colorbar(im, ax=axs)\n",
    "    plt.show(block=False)\n",
    "\n",
    "\n",
    "def get_mel_spectrogram(x, sampling_rate: Union[int, float]):\n",
    "    transform = transforms.MelSpectrogram(sample_rate=128, f_min=3, f_max=50, n_fft=50, n_mels=8, center=True,\n",
    "                                          win_length=8)\n",
    "    mel_spectrogram = transform(einops.rearrange(x, \"s c -> c s\"))\n",
    "    return mel_spectrogram"
   ],
   "metadata": {
    "collapsed": false,
    "pycharm": {
     "name": "#%%\n"
    }
   }
  },
  {
   "cell_type": "code",
   "execution_count": null,
   "outputs": [],
   "source": [
    "from torch import nn\n",
    "from torchaudio import transforms\n",
    "\n",
    "print(sample_eeg.shape)\n",
    "st = time.time()\n",
    "s = get_mel_spectrogram(x=sample_eeg)\n",
    "print(s.shape)\n",
    "plot_spectrogram(s[0])\n",
    "# plot_spectrogram(mel_specgram[0], title=\"MelSpectrogram - torchaudio\", ylabel=\"mel freq\")\n",
    "print(time.time() - st)"
   ],
   "metadata": {
    "collapsed": false,
    "pycharm": {
     "name": "#%%\n"
    }
   }
  },
  {
   "cell_type": "code",
   "execution_count": null,
   "outputs": [],
   "source": [],
   "metadata": {
    "collapsed": false,
    "pycharm": {
     "name": "#%%\n"
    }
   }
  }
 ],
 "metadata": {
  "kernelspec": {
   "display_name": "Python 3",
   "language": "python",
   "name": "python3"
  },
  "language_info": {
   "codemirror_mode": {
    "name": "ipython",
    "version": 2
   },
   "file_extension": ".py",
   "mimetype": "text/x-python",
   "name": "python",
   "nbconvert_exporter": "python",
   "pygments_lexer": "ipython2",
   "version": "2.7.6"
  }
 },
 "nbformat": 4,
 "nbformat_minor": 0
}