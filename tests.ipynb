{
 "cells": [
  {
   "cell_type": "code",
   "execution_count": 1,
   "outputs": [
    {
     "data": {
      "text/plain": "   Unnamed: 0  acc_arousal_train  epoch  acc_arousal_val  acc_liking_train  \\\n0           0           0.523750    0.0          0.81625          0.605625   \n1           1           0.764375    1.0          0.81625          0.911250   \n2           2           0.516250    0.0          0.85250          0.610000   \n3           3           0.736875    1.0          0.85250          0.915000   \n4           4           0.522500    0.0          0.80625          0.593750   \n5           5           0.750625    1.0          0.80625          0.911875   \n\n   acc_liking_val  acc_mean_train  acc_dominance_val  acc_dominance_train  \\\n0             1.0        0.576875            0.88750             0.621875   \n1             1.0        0.785000            0.88750             0.820000   \n2             1.0        0.565781            0.87125             0.614375   \n3             1.0        0.780156            0.87125             0.828125   \n4             1.0        0.575156            0.86625             0.616250   \n5             1.0        0.781875            0.86625             0.821250   \n\n   loss_train  loss_val  acc_mean_val  acc_valence_val  acc_valence_train  \\\n0    2.701323  2.076227      0.852500          0.70625           0.556250   \n1    2.200725  1.928581      0.852500          0.70625           0.644375   \n2    2.703539  2.062110      0.860312          0.71750           0.522500   \n3    2.217161  1.906345      0.860312          0.71750           0.640625   \n4    2.696255  2.111627      0.837187          0.67625           0.568125   \n5    2.198807  1.974917      0.837187          0.67625           0.643750   \n\n   fold subject  \n0     0     s01  \n1     0     s01  \n2     1     s01  \n3     1     s01  \n4     2     s01  \n5     2     s01  ",
      "text/html": "<div>\n<style scoped>\n    .dataframe tbody tr th:only-of-type {\n        vertical-align: middle;\n    }\n\n    .dataframe tbody tr th {\n        vertical-align: top;\n    }\n\n    .dataframe thead th {\n        text-align: right;\n    }\n</style>\n<table border=\"1\" class=\"dataframe\">\n  <thead>\n    <tr style=\"text-align: right;\">\n      <th></th>\n      <th>Unnamed: 0</th>\n      <th>acc_arousal_train</th>\n      <th>epoch</th>\n      <th>acc_arousal_val</th>\n      <th>acc_liking_train</th>\n      <th>acc_liking_val</th>\n      <th>acc_mean_train</th>\n      <th>acc_dominance_val</th>\n      <th>acc_dominance_train</th>\n      <th>loss_train</th>\n      <th>loss_val</th>\n      <th>acc_mean_val</th>\n      <th>acc_valence_val</th>\n      <th>acc_valence_train</th>\n      <th>fold</th>\n      <th>subject</th>\n    </tr>\n  </thead>\n  <tbody>\n    <tr>\n      <th>0</th>\n      <td>0</td>\n      <td>0.523750</td>\n      <td>0.0</td>\n      <td>0.81625</td>\n      <td>0.605625</td>\n      <td>1.0</td>\n      <td>0.576875</td>\n      <td>0.88750</td>\n      <td>0.621875</td>\n      <td>2.701323</td>\n      <td>2.076227</td>\n      <td>0.852500</td>\n      <td>0.70625</td>\n      <td>0.556250</td>\n      <td>0</td>\n      <td>s01</td>\n    </tr>\n    <tr>\n      <th>1</th>\n      <td>1</td>\n      <td>0.764375</td>\n      <td>1.0</td>\n      <td>0.81625</td>\n      <td>0.911250</td>\n      <td>1.0</td>\n      <td>0.785000</td>\n      <td>0.88750</td>\n      <td>0.820000</td>\n      <td>2.200725</td>\n      <td>1.928581</td>\n      <td>0.852500</td>\n      <td>0.70625</td>\n      <td>0.644375</td>\n      <td>0</td>\n      <td>s01</td>\n    </tr>\n    <tr>\n      <th>2</th>\n      <td>2</td>\n      <td>0.516250</td>\n      <td>0.0</td>\n      <td>0.85250</td>\n      <td>0.610000</td>\n      <td>1.0</td>\n      <td>0.565781</td>\n      <td>0.87125</td>\n      <td>0.614375</td>\n      <td>2.703539</td>\n      <td>2.062110</td>\n      <td>0.860312</td>\n      <td>0.71750</td>\n      <td>0.522500</td>\n      <td>1</td>\n      <td>s01</td>\n    </tr>\n    <tr>\n      <th>3</th>\n      <td>3</td>\n      <td>0.736875</td>\n      <td>1.0</td>\n      <td>0.85250</td>\n      <td>0.915000</td>\n      <td>1.0</td>\n      <td>0.780156</td>\n      <td>0.87125</td>\n      <td>0.828125</td>\n      <td>2.217161</td>\n      <td>1.906345</td>\n      <td>0.860312</td>\n      <td>0.71750</td>\n      <td>0.640625</td>\n      <td>1</td>\n      <td>s01</td>\n    </tr>\n    <tr>\n      <th>4</th>\n      <td>4</td>\n      <td>0.522500</td>\n      <td>0.0</td>\n      <td>0.80625</td>\n      <td>0.593750</td>\n      <td>1.0</td>\n      <td>0.575156</td>\n      <td>0.86625</td>\n      <td>0.616250</td>\n      <td>2.696255</td>\n      <td>2.111627</td>\n      <td>0.837187</td>\n      <td>0.67625</td>\n      <td>0.568125</td>\n      <td>2</td>\n      <td>s01</td>\n    </tr>\n    <tr>\n      <th>5</th>\n      <td>5</td>\n      <td>0.750625</td>\n      <td>1.0</td>\n      <td>0.80625</td>\n      <td>0.911875</td>\n      <td>1.0</td>\n      <td>0.781875</td>\n      <td>0.86625</td>\n      <td>0.821250</td>\n      <td>2.198807</td>\n      <td>1.974917</td>\n      <td>0.837187</td>\n      <td>0.67625</td>\n      <td>0.643750</td>\n      <td>2</td>\n      <td>s01</td>\n    </tr>\n  </tbody>\n</table>\n</div>"
     },
     "execution_count": 1,
     "metadata": {},
     "output_type": "execute_result"
    }
   ],
   "source": [
    "import pandas as pd\n",
    "\n",
    "path = \"/home/rom42pla/repos/eeg_deep_emotion_recognition/checkpoints/20220722_103737_within_subject_k_fold/logs.csv\"\n",
    "df = pd.read_csv(path)\n",
    "df"
   ],
   "metadata": {
    "collapsed": false,
    "pycharm": {
     "name": "#%%\n"
    }
   }
  },
  {
   "cell_type": "code",
   "execution_count": 5,
   "outputs": [
    {
     "data": {
      "text/plain": "Unnamed: 0             5.000000\nacc_arousal_train      0.764375\nepoch                  1.000000\nacc_arousal_val        0.852500\nacc_liking_train       0.915000\nacc_liking_val         1.000000\nacc_mean_train         0.785000\nacc_dominance_val      0.887500\nacc_dominance_train    0.828125\nloss_train             2.703539\nloss_val               2.111627\nacc_mean_val           0.860312\nacc_valence_val        0.717500\nacc_valence_train      0.644375\nfold                   2.000000\ndtype: float64"
     },
     "execution_count": 5,
     "metadata": {},
     "output_type": "execute_result"
    }
   ],
   "source": [
    "df.groupby(by=\"subject\").max().mean()"
   ],
   "metadata": {
    "collapsed": false,
    "pycharm": {
     "name": "#%%\n"
    }
   }
  },
  {
   "cell_type": "code",
   "execution_count": 15,
   "outputs": [
    {
     "name": "stdout",
     "output_type": "stream",
     "text": [
      "torch.Size([128, 23, 128]) torch.Size([128, 128, 4])\n",
      "torch.Size([128, 23, 4])\n",
      "torch.Size([128, 4, 128])\n"
     ]
    },
    {
     "ename": "RuntimeError",
     "evalue": "Expected size for first two dimensions of batch2 tensor to be: [128, 128] but got: [128, 23].",
     "output_type": "error",
     "traceback": [
      "\u001B[0;31m---------------------------------------------------------------------------\u001B[0m",
      "\u001B[0;31mRuntimeError\u001B[0m                              Traceback (most recent call last)",
      "Input \u001B[0;32mIn [15]\u001B[0m, in \u001B[0;36m<module>\u001B[0;34m\u001B[0m\n\u001B[1;32m      7\u001B[0m z \u001B[38;5;241m=\u001B[39m torch\u001B[38;5;241m.\u001B[39mrand(\u001B[38;5;241m128\u001B[39m, \u001B[38;5;241m4\u001B[39m, \u001B[38;5;241m128\u001B[39m)\n\u001B[1;32m      8\u001B[0m \u001B[38;5;28mprint\u001B[39m(z\u001B[38;5;241m.\u001B[39mshape)\n\u001B[0;32m----> 9\u001B[0m r \u001B[38;5;241m=\u001B[39m \u001B[43mtorch\u001B[49m\u001B[38;5;241;43m.\u001B[39;49m\u001B[43mbmm\u001B[49m\u001B[43m(\u001B[49m\u001B[43mz\u001B[49m\u001B[43m,\u001B[49m\u001B[43m \u001B[49m\u001B[43mr\u001B[49m\u001B[43m)\u001B[49m\n\u001B[1;32m     10\u001B[0m \u001B[38;5;28mprint\u001B[39m(r\u001B[38;5;241m.\u001B[39mshape)\n",
      "\u001B[0;31mRuntimeError\u001B[0m: Expected size for first two dimensions of batch2 tensor to be: [128, 128] but got: [128, 23]."
     ]
    }
   ],
   "source": [
    "import torch\n",
    "a = torch.rand(128, 23, 128)\n",
    "b = torch.rand(128, 4, 128).mT\n",
    "print(a.shape, b.shape)\n",
    "r = torch.bmm(a, b)\n",
    "print(r.shape)\n",
    "z = torch.rand(128, 4, 128)\n",
    "print(z.shape)\n",
    "r = torch.bmm(z, r)\n",
    "print(r.shape)"
   ],
   "metadata": {
    "collapsed": false,
    "pycharm": {
     "name": "#%%\n"
    }
   }
  },
  {
   "cell_type": "code",
   "execution_count": null,
   "outputs": [],
   "source": [],
   "metadata": {
    "collapsed": false,
    "pycharm": {
     "name": "#%%\n"
    }
   }
  }
 ],
 "metadata": {
  "kernelspec": {
   "display_name": "Python 3",
   "language": "python",
   "name": "python3"
  },
  "language_info": {
   "codemirror_mode": {
    "name": "ipython",
    "version": 2
   },
   "file_extension": ".py",
   "mimetype": "text/x-python",
   "name": "python",
   "nbconvert_exporter": "python",
   "pygments_lexer": "ipython2",
   "version": "2.7.6"
  }
 },
 "nbformat": 4,
 "nbformat_minor": 0
}